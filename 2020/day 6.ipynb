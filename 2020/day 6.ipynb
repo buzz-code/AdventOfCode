{
 "metadata": {
  "language_info": {
   "codemirror_mode": {
    "name": "ipython",
    "version": 3
   },
   "file_extension": ".py",
   "mimetype": "text/x-python",
   "name": "python",
   "nbconvert_exporter": "python",
   "pygments_lexer": "ipython3",
   "version": "3.8.3-final"
  },
  "orig_nbformat": 2,
  "kernelspec": {
   "name": "python38364bit4cff6aa3da3d4713837ad5f87d792c3a",
   "display_name": "Python 3.8.3 64-bit",
   "language": "python"
  }
 },
 "nbformat": 4,
 "nbformat_minor": 2,
 "cells": [
  {
   "cell_type": "code",
   "execution_count": 1,
   "metadata": {},
   "outputs": [
    {
     "output_type": "stream",
     "name": "stdout",
     "text": [
      "465\n"
     ]
    }
   ],
   "source": [
    "import requests\n",
    "import os\n",
    "\n",
    "DAY = '6'\n",
    "\n",
    "cookies = dict(session= os.environ['ADVENT_OF_CODE_SESSION_COOKIE'])\n",
    "r = requests.get('https://adventofcode.com/2020/day/' + DAY + '/input', cookies=cookies)\n",
    "data = r.text.split('\\n\\n')\n",
    "\n",
    "print(len(data))"
   ]
  },
  {
   "cell_type": "code",
   "execution_count": 2,
   "metadata": {},
   "outputs": [],
   "source": [
    "def get_len_for_row(row):\n",
    "    answers = row.replace('\\n', '')\n",
    "    return len(set(answers))"
   ]
  },
  {
   "cell_type": "code",
   "execution_count": 3,
   "metadata": {},
   "outputs": [
    {
     "output_type": "stream",
     "name": "stdout",
     "text": [
      "6297\n"
     ]
    }
   ],
   "source": [
    "# part 1\n",
    "result = [get_len_for_row(row) for row in data]\n",
    "print(sum(result))"
   ]
  },
  {
   "cell_type": "code",
   "execution_count": 4,
   "metadata": {},
   "outputs": [],
   "source": [
    "import collections\n",
    "def get_len_for_row_2(row):\n",
    "    answers_num = row.count('\\n') + 1\n",
    "    res = collections.defaultdict(int)\n",
    "    for char in row:\n",
    "        res[char] += 1\n",
    "    return len([key for key in res.keys() if res[key] == answers_num])"
   ]
  },
  {
   "cell_type": "code",
   "execution_count": 5,
   "metadata": {},
   "outputs": [
    {
     "output_type": "stream",
     "name": "stdout",
     "text": [
      "3154\n"
     ]
    }
   ],
   "source": [
    "# part 2\n",
    "result = [get_len_for_row_2(row) for row in data]\n",
    "print(sum(result))"
   ]
  }
 ]
}