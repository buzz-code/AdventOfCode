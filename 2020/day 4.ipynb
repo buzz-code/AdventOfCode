{
 "metadata": {
  "language_info": {
   "codemirror_mode": {
    "name": "ipython",
    "version": 3
   },
   "file_extension": ".py",
   "mimetype": "text/x-python",
   "name": "python",
   "nbconvert_exporter": "python",
   "pygments_lexer": "ipython3",
   "version": "3.8.3-final"
  },
  "orig_nbformat": 2,
  "kernelspec": {
   "name": "python38364bit4cff6aa3da3d4713837ad5f87d792c3a",
   "display_name": "Python 3.8.3 64-bit",
   "language": "python"
  }
 },
 "nbformat": 4,
 "nbformat_minor": 2,
 "cells": [
  {
   "cell_type": "code",
   "execution_count": 1,
   "metadata": {},
   "outputs": [
    {
     "output_type": "stream",
     "name": "stdout",
     "text": [
      "285\n"
     ]
    }
   ],
   "source": [
    "import requests\n",
    "import os\n",
    "\n",
    "DAY = '4'\n",
    "\n",
    "cookies = dict(session= os.environ['ADVENT_OF_CODE_SESSION_COOKIE'])\n",
    "r = requests.get('https://adventofcode.com/2020/day/' + DAY + '/input', cookies=cookies)\n",
    "data = r.text.split('\\n\\n')\n",
    "\n",
    "print(len(data))"
   ]
  },
  {
   "cell_type": "code",
   "execution_count": 2,
   "metadata": {},
   "outputs": [],
   "source": [
    "# setting up neccessary values\n",
    "fields = ['byr', 'iyr', 'eyr', 'hgt', 'hcl', 'ecl', 'pid']\n",
    "\n",
    "import re\n",
    "\n",
    "data = [re.split(' |\\n', row) for row in data]"
   ]
  },
  {
   "cell_type": "code",
   "execution_count": 3,
   "metadata": {},
   "outputs": [],
   "source": [
    "def is_valid(row):\n",
    "    present_fields = [val.split(':')[0] for val in row]\n",
    "    validate = [i in present_fields for i in fields]\n",
    "    return all(validate)"
   ]
  },
  {
   "cell_type": "code",
   "execution_count": 4,
   "metadata": {},
   "outputs": [
    {
     "output_type": "stream",
     "name": "stdout",
     "text": [
      "208\n"
     ]
    }
   ],
   "source": [
    "# part 1\n",
    "print(sum([is_valid(i) for i in data]))"
   ]
  },
  {
   "cell_type": "code",
   "execution_count": 5,
   "metadata": {},
   "outputs": [],
   "source": [
    "fields_with_logic = [\n",
    "    ('byr', lambda x: 1920 <= int(x) <= 2002), \n",
    "    ('iyr', lambda x: 2010 <= int(x) <= 2020), \n",
    "    ('eyr', lambda x: 2020 <= int(x) <= 2030), \n",
    "    ('hgt', lambda x: False if 'cm' not in x and 'in' not in x else 150 <= int(x[:-2]) <= 193 if 'cm' in x else 59 <= int(x[:-2]) <= 76), \n",
    "    ('hcl', lambda x: re.fullmatch('#[a-f0-9]{6,6}', x) != None), \n",
    "    ('ecl', lambda x: x in ['amb', 'blu', 'brn', 'gry', 'grn', 'hzl', 'oth']), \n",
    "    ('pid', lambda x: re.fullmatch('[0-9]{9,9}', x) != None)\n",
    "]"
   ]
  },
  {
   "cell_type": "code",
   "execution_count": 6,
   "metadata": {},
   "outputs": [],
   "source": [
    "def is_valid_2 (row):\n",
    "    split_row = dict([i.split(':') for i in row if ':' in i])\n",
    "    validate = [name in split_row and func(split_row[name]) for name, func in fields_with_logic]\n",
    "    return all(validate)"
   ]
  },
  {
   "cell_type": "code",
   "execution_count": 7,
   "metadata": {},
   "outputs": [
    {
     "output_type": "stream",
     "name": "stdout",
     "text": [
      "167\n"
     ]
    }
   ],
   "source": [
    "# part 2\n",
    "print(sum([is_valid_2(i) for i in data]))"
   ]
  }
 ]
}