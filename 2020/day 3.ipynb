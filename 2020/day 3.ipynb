{
 "metadata": {
  "language_info": {
   "codemirror_mode": {
    "name": "ipython",
    "version": 3
   },
   "file_extension": ".py",
   "mimetype": "text/x-python",
   "name": "python",
   "nbconvert_exporter": "python",
   "pygments_lexer": "ipython3",
   "version": "3.8.3-final"
  },
  "orig_nbformat": 2,
  "kernelspec": {
   "name": "python38364bit4cff6aa3da3d4713837ad5f87d792c3a",
   "display_name": "Python 3.8.3 64-bit",
   "language": "python"
  }
 },
 "nbformat": 4,
 "nbformat_minor": 2,
 "cells": [
  {
   "cell_type": "code",
   "execution_count": 1,
   "metadata": {},
   "outputs": [
    {
     "output_type": "stream",
     "name": "stdout",
     "text": [
      "323\n"
     ]
    }
   ],
   "source": [
    "import requests\n",
    "import os\n",
    "\n",
    "DAY = '3'\n",
    "\n",
    "cookies = dict(session= os.environ['ADVENT_OF_CODE_SESSION_COOKIE'])\n",
    "r = requests.get('https://adventofcode.com/2020/day/' + DAY + '/input', cookies=cookies)\n",
    "data = r.text.splitlines()\n",
    "\n",
    "print(len(data))"
   ]
  },
  {
   "cell_type": "code",
   "execution_count": 2,
   "metadata": {},
   "outputs": [],
   "source": [
    "width = len(data[0])\n",
    "height = len(data)"
   ]
  },
  {
   "cell_type": "code",
   "execution_count": 3,
   "metadata": {},
   "outputs": [],
   "source": [
    "def count_trees(i_step, j_step):\n",
    "    result = [content[(i * j_step // i_step) % width] for i, content in enumerate(data) if i % i_step == 0]\n",
    "    count = sum([i == '#' for i in result])\n",
    "    return count"
   ]
  },
  {
   "cell_type": "code",
   "execution_count": 4,
   "metadata": {},
   "outputs": [
    {
     "output_type": "stream",
     "name": "stdout",
     "text": [
      "167\n"
     ]
    }
   ],
   "source": [
    "# part 1\n",
    "print(count_trees(1, 3))"
   ]
  },
  {
   "cell_type": "code",
   "execution_count": 5,
   "metadata": {},
   "outputs": [
    {
     "output_type": "stream",
     "name": "stdout",
     "text": [
      "736527114\n"
     ]
    }
   ],
   "source": [
    "# part 2\n",
    "print(count_trees(1, 1) * count_trees(1, 3) * count_trees(1, 5) * count_trees(1, 7) * count_trees(2, 1))"
   ]
  }
 ]
}