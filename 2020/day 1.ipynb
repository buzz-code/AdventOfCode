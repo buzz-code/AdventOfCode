{
 "metadata": {
  "language_info": {
   "codemirror_mode": {
    "name": "ipython",
    "version": 3
   },
   "file_extension": ".py",
   "mimetype": "text/x-python",
   "name": "python",
   "nbconvert_exporter": "python",
   "pygments_lexer": "ipython3",
   "version": "3.8.3-final"
  },
  "orig_nbformat": 2,
  "kernelspec": {
   "name": "python38364bit4cff6aa3da3d4713837ad5f87d792c3a",
   "display_name": "Python 3.8.3 64-bit",
   "language": "python"
  }
 },
 "nbformat": 4,
 "nbformat_minor": 2,
 "cells": [
  {
   "cell_type": "code",
   "execution_count": 1,
   "metadata": {},
   "outputs": [
    {
     "output_type": "stream",
     "name": "stdout",
     "text": [
      "200\n"
     ]
    }
   ],
   "source": [
    "import requests\n",
    "import os\n",
    "\n",
    "DAY = '1'\n",
    "\n",
    "cookies = dict(session= os.environ['ADVENT_OF_CODE_SESSION_COOKIE'])\n",
    "r = requests.get('https://adventofcode.com/2020/day/' + DAY + '/input', cookies=cookies)\n",
    "data = r.text.splitlines()\n",
    "\n",
    "print(len(data))"
   ]
  },
  {
   "cell_type": "code",
   "execution_count": 2,
   "metadata": {},
   "outputs": [],
   "source": [
    "def get_numbers_that_sum(arr, total, k):\n",
    "    if k > len(arr) or k == 0:\n",
    "        return []\n",
    "    if arr[0] == total and k == 1:\n",
    "        return [arr[0]]\n",
    "    if arr[0] > total:\n",
    "        return get_numbers_that_sum(arr[1:], total, k)\n",
    "    res_with_current = get_numbers_that_sum(arr[1:], total - arr[0], k - 1)\n",
    "    if sum(res_with_current) == total - arr[0] and len(res_with_current) == k - 1:\n",
    "        return res_with_current + [arr[0]]\n",
    "    return get_numbers_that_sum(arr[1:], total, k)"
   ]
  },
  {
   "cell_type": "code",
   "execution_count": 3,
   "metadata": {},
   "outputs": [
    {
     "output_type": "stream",
     "name": "stdout",
     "text": [
      "1006875\n"
     ]
    }
   ],
   "source": [
    "# part 1\n",
    "part_1_res = get_numbers_that_sum([int(i) for i in data], 2020, 2)\n",
    "print(part_1_res[0] * part_1_res[1])"
   ]
  },
  {
   "cell_type": "code",
   "execution_count": 4,
   "metadata": {},
   "outputs": [
    {
     "output_type": "stream",
     "name": "stdout",
     "text": [
      "165026160\n"
     ]
    }
   ],
   "source": [
    "# part 2\n",
    "part_2_res = get_numbers_that_sum([int(i) for i in data], 2020, 3)\n",
    "print(part_2_res[0] * part_2_res[1] * part_2_res[2])"
   ]
  }
 ]
}