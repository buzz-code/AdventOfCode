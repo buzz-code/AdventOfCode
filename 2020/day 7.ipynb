{
 "metadata": {
  "language_info": {
   "codemirror_mode": {
    "name": "ipython",
    "version": 3
   },
   "file_extension": ".py",
   "mimetype": "text/x-python",
   "name": "python",
   "nbconvert_exporter": "python",
   "pygments_lexer": "ipython3",
   "version": "3.8.3-final"
  },
  "orig_nbformat": 2,
  "kernelspec": {
   "name": "python38364bit4cff6aa3da3d4713837ad5f87d792c3a",
   "display_name": "Python 3.8.3 64-bit",
   "language": "python"
  }
 },
 "nbformat": 4,
 "nbformat_minor": 2,
 "cells": [
  {
   "cell_type": "code",
   "execution_count": 1,
   "metadata": {},
   "outputs": [
    {
     "output_type": "stream",
     "name": "stdout",
     "text": [
      "594\n"
     ]
    }
   ],
   "source": [
    "import requests\n",
    "import os\n",
    "\n",
    "DAY = '7'\n",
    "\n",
    "cookies = dict(session= os.environ['ADVENT_OF_CODE_SESSION_COOKIE'])\n",
    "r = requests.get('https://adventofcode.com/2020/day/' + DAY + '/input', cookies=cookies)\n",
    "data = r.text.splitlines()\n",
    "\n",
    "print(len(data))"
   ]
  },
  {
   "cell_type": "code",
   "execution_count": 2,
   "metadata": {},
   "outputs": [],
   "source": [
    "import re\n",
    "\n",
    "class bag_rule(object):\n",
    "    def __init__(self, container, content):\n",
    "        self.container = container\n",
    "        self.content = re.findall(r'(\\d*) ([a-z]*\\s[a-z]*) bag', content)\n",
    "        self.bags = [bag for count, bag in self.content]\n",
    "    \n",
    "    def can_contain(self, bag):\n",
    "        return bag in self.bags"
   ]
  },
  {
   "cell_type": "code",
   "execution_count": 3,
   "metadata": {},
   "outputs": [],
   "source": [
    "def get_rule_for_row(row):\n",
    "    [container, content] = row.split(' bags contain ')\n",
    "    return bag_rule(container, content)"
   ]
  },
  {
   "cell_type": "code",
   "execution_count": 4,
   "metadata": {},
   "outputs": [],
   "source": [
    "rules = [get_rule_for_row(i) for i in data]\n",
    "available_bags = set(['shiny gold'])\n",
    "checked_bags = set([])\n",
    "result = set([])\n",
    "while len(available_bags) > 0:\n",
    "    bag = available_bags.pop()\n",
    "    containers = set([i.container for i in rules if i.can_contain(bag)])\n",
    "    result = result.union(containers)\n",
    "    checked_bags.add(bag)\n",
    "    available_bags = available_bags.union(containers - checked_bags)"
   ]
  },
  {
   "cell_type": "code",
   "execution_count": 5,
   "metadata": {},
   "outputs": [
    {
     "output_type": "stream",
     "name": "stdout",
     "text": [
      "179\n"
     ]
    }
   ],
   "source": [
    "# part 1\n",
    "print(len(result))"
   ]
  },
  {
   "cell_type": "code",
   "execution_count": 6,
   "metadata": {},
   "outputs": [],
   "source": [
    "rule_dict = dict()\n",
    "for i in rules:\n",
    "    rule_dict[i.container] = [(int(count), bag) for count, bag in i.content]\n",
    "count = 0\n",
    "bags = rule_dict['shiny gold']\n",
    "while len(bags) > 0:\n",
    "    num, bag = bags.pop()\n",
    "    count += num\n",
    "    bags += [(n * num, b) for n, b in rule_dict[bag]]"
   ]
  },
  {
   "cell_type": "code",
   "execution_count": 7,
   "metadata": {},
   "outputs": [
    {
     "output_type": "stream",
     "name": "stdout",
     "text": [
      "18925\n"
     ]
    }
   ],
   "source": [
    "# part 2\n",
    "print(count)"
   ]
  }
 ]
}