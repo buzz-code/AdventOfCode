{
 "metadata": {
  "language_info": {
   "codemirror_mode": {
    "name": "ipython",
    "version": 3
   },
   "file_extension": ".py",
   "mimetype": "text/x-python",
   "name": "python",
   "nbconvert_exporter": "python",
   "pygments_lexer": "ipython3",
   "version": "3.8.3-final"
  },
  "orig_nbformat": 2,
  "kernelspec": {
   "name": "python38364bit4cff6aa3da3d4713837ad5f87d792c3a",
   "display_name": "Python 3.8.3 64-bit",
   "language": "python"
  }
 },
 "nbformat": 4,
 "nbformat_minor": 2,
 "cells": [
  {
   "cell_type": "code",
   "execution_count": 1,
   "metadata": {},
   "outputs": [
    {
     "output_type": "stream",
     "name": "stdout",
     "text": [
      "888\n"
     ]
    }
   ],
   "source": [
    "import requests\n",
    "import os\n",
    "\n",
    "DAY = '5'\n",
    "\n",
    "cookies = dict(session= os.environ['ADVENT_OF_CODE_SESSION_COOKIE'])\n",
    "r = requests.get('https://adventofcode.com/2020/day/' + DAY + '/input', cookies=cookies)\n",
    "data = r.text.splitlines()\n",
    "\n",
    "print(len(data))"
   ]
  },
  {
   "cell_type": "code",
   "execution_count": 2,
   "metadata": {},
   "outputs": [],
   "source": [
    "def get_position_from_def(row):\n",
    "    row_number = 0\n",
    "    col_number = 0\n",
    "    for i in range(7):\n",
    "        row_number *= 2\n",
    "        if row[i] == 'B':\n",
    "            row_number += 1\n",
    "    for i in range(7, 10):\n",
    "        col_number *= 2\n",
    "        if row[i] == 'R':\n",
    "            col_number += 1\n",
    "    return row_number * 8 + col_number"
   ]
  },
  {
   "cell_type": "code",
   "execution_count": 3,
   "metadata": {},
   "outputs": [
    {
     "output_type": "stream",
     "name": "stdout",
     "text": [
      "894\n"
     ]
    }
   ],
   "source": [
    "# part 1\n",
    "part_1_res = [get_position_from_def(i) for i in data]\n",
    "print(max(part_1_res))"
   ]
  },
  {
   "cell_type": "code",
   "execution_count": 4,
   "metadata": {
    "tags": []
   },
   "outputs": [
    {
     "output_type": "stream",
     "name": "stdout",
     "text": [
      "579\n"
     ]
    }
   ],
   "source": [
    "row_num = 8\n",
    "for i in range(1, 127):\n",
    "    for i in range(8):\n",
    "        if row_num not in part_1_res and row_num - 1 in part_1_res and row_num + 1 in part_1_res:\n",
    "            print(row_num)\n",
    "        row_num += 1"
   ]
  }
 ]
}