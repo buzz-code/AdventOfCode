{
 "metadata": {
  "language_info": {
   "codemirror_mode": {
    "name": "ipython",
    "version": 3
   },
   "file_extension": ".py",
   "mimetype": "text/x-python",
   "name": "python",
   "nbconvert_exporter": "python",
   "pygments_lexer": "ipython3",
   "version": "3.8.3-final"
  },
  "orig_nbformat": 2,
  "kernelspec": {
   "name": "python38364bit4cff6aa3da3d4713837ad5f87d792c3a",
   "display_name": "Python 3.8.3 64-bit",
   "language": "python"
  }
 },
 "nbformat": 4,
 "nbformat_minor": 2,
 "cells": [
  {
   "cell_type": "code",
   "execution_count": 1,
   "metadata": {},
   "outputs": [
    {
     "output_type": "stream",
     "name": "stdout",
     "text": [
      "1000\n"
     ]
    }
   ],
   "source": [
    "import requests\n",
    "import os\n",
    "\n",
    "DAY = '2'\n",
    "\n",
    "cookies = dict(session= os.environ['ADVENT_OF_CODE_SESSION_COOKIE'])\n",
    "r = requests.get('https://adventofcode.com/2020/day/' + DAY + '/input', cookies=cookies)\n",
    "data = r.text.splitlines()\n",
    "\n",
    "print(len(data))"
   ]
  },
  {
   "cell_type": "code",
   "execution_count": 2,
   "metadata": {},
   "outputs": [],
   "source": [
    "import re\n",
    "\n",
    "def is_password_valid(row):\n",
    "    min_count, max_count, char, password = re.findall(r'(\\d*)-(\\d*) ([a-z]): ([a-z]*)', row)[0]\n",
    "    min_count = int(min_count)\n",
    "    max_count = int(max_count)\n",
    "    return min_count <= password.count(char) <= max_count"
   ]
  },
  {
   "cell_type": "code",
   "execution_count": 3,
   "metadata": {},
   "outputs": [
    {
     "output_type": "stream",
     "name": "stdout",
     "text": [
      "636\n"
     ]
    }
   ],
   "source": [
    "# part 1\n",
    "part_1_res = [is_password_valid(i) for i in data]\n",
    "print(sum(part_1_res))"
   ]
  },
  {
   "cell_type": "code",
   "execution_count": 4,
   "metadata": {},
   "outputs": [],
   "source": [
    "def is_password_valid_2(row):\n",
    "    pos_1, pos_2, char, password = re.findall(r'(\\d*)-(\\d*) ([a-z]): ([a-z]*)', row)[0]\n",
    "    pos_1 = int(pos_1) - 1\n",
    "    pos_2 = int(pos_2) - 1\n",
    "    n = len(password)\n",
    "    return (password[pos_1] == char) != (password[pos_2] == char)"
   ]
  },
  {
   "cell_type": "code",
   "execution_count": 5,
   "metadata": {},
   "outputs": [
    {
     "output_type": "stream",
     "name": "stdout",
     "text": [
      "588\n"
     ]
    }
   ],
   "source": [
    "# part 2\n",
    "part_2_res = [is_password_valid_2(i) for i in data]\n",
    "print(sum(part_2_res))"
   ]
  }
 ]
}